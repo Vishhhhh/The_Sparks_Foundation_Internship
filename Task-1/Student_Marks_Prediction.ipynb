{
  "nbformat": 4,
  "nbformat_minor": 0,
  "metadata": {
    "kernelspec": {
      "display_name": "Python 3",
      "language": "python",
      "name": "python3"
    },
    "language_info": {
      "codemirror_mode": {
        "name": "ipython",
        "version": 3
      },
      "file_extension": ".py",
      "mimetype": "text/x-python",
      "name": "python",
      "nbconvert_exporter": "python",
      "pygments_lexer": "ipython3",
      "version": "3.8.6rc1"
    },
    "colab": {
      "name": "Student_Marks_Prediction.ipynb",
      "provenance": [],
      "collapsed_sections": [],
      "toc_visible": true
    }
  },
  "cells": [
    {
      "cell_type": "markdown",
      "metadata": {
        "id": "aX6Nx-tmUjOZ"
      },
      "source": [
        "# THE SPARKS FOUNDATION"
      ]
    },
    {
      "cell_type": "markdown",
      "metadata": {
        "id": "BZ_BcPfoUjOa"
      },
      "source": [
        "# Task - 1 : Prediction using Supervised ML"
      ]
    },
    {
      "cell_type": "markdown",
      "metadata": {
        "id": "umYZtJ-aUjOb"
      },
      "source": [
        "Predict the percentage of marks of an student based on the number of study hours"
      ]
    },
    {
      "cell_type": "markdown",
      "metadata": {
        "id": "crgFMvKTUjOb"
      },
      "source": [
        "Name: Vishesh Bajaj"
      ]
    },
    {
      "cell_type": "markdown",
      "metadata": {
        "id": "ZX03qOY5XYiO"
      },
      "source": [
        "# STEP 1 - Importing libraries and dataset"
      ]
    },
    {
      "cell_type": "code",
      "metadata": {
        "id": "8_K88KUDUjOb"
      },
      "source": [
        "import pandas as pd\n",
        "import numpy as np\n",
        "import matplotlib.pyplot as plt\n",
        "from sklearn import linear_model\n",
        "from sklearn import metrics  \n",
        "from sklearn.model_selection import train_test_split \n",
        "from sklearn.linear_model import LinearRegression  "
      ],
      "execution_count": 11,
      "outputs": []
    },
    {
      "cell_type": "code",
      "metadata": {
        "colab": {
          "base_uri": "https://localhost:8080/",
          "height": 359
        },
        "id": "hLM92-HxUjOb",
        "outputId": "bcd4e433-92e7-4fed-f2c5-b88d6f78c195"
      },
      "source": [
        "df = pd.read_csv(\"/content/student_scores.csv\")\n",
        "df.head(10)"
      ],
      "execution_count": 12,
      "outputs": [
        {
          "output_type": "execute_result",
          "data": {
            "text/html": [
              "<div>\n",
              "<style scoped>\n",
              "    .dataframe tbody tr th:only-of-type {\n",
              "        vertical-align: middle;\n",
              "    }\n",
              "\n",
              "    .dataframe tbody tr th {\n",
              "        vertical-align: top;\n",
              "    }\n",
              "\n",
              "    .dataframe thead th {\n",
              "        text-align: right;\n",
              "    }\n",
              "</style>\n",
              "<table border=\"1\" class=\"dataframe\">\n",
              "  <thead>\n",
              "    <tr style=\"text-align: right;\">\n",
              "      <th></th>\n",
              "      <th>Hours</th>\n",
              "      <th>Scores</th>\n",
              "    </tr>\n",
              "  </thead>\n",
              "  <tbody>\n",
              "    <tr>\n",
              "      <th>0</th>\n",
              "      <td>2.5</td>\n",
              "      <td>21</td>\n",
              "    </tr>\n",
              "    <tr>\n",
              "      <th>1</th>\n",
              "      <td>5.1</td>\n",
              "      <td>47</td>\n",
              "    </tr>\n",
              "    <tr>\n",
              "      <th>2</th>\n",
              "      <td>3.2</td>\n",
              "      <td>27</td>\n",
              "    </tr>\n",
              "    <tr>\n",
              "      <th>3</th>\n",
              "      <td>8.5</td>\n",
              "      <td>75</td>\n",
              "    </tr>\n",
              "    <tr>\n",
              "      <th>4</th>\n",
              "      <td>3.5</td>\n",
              "      <td>30</td>\n",
              "    </tr>\n",
              "    <tr>\n",
              "      <th>5</th>\n",
              "      <td>1.5</td>\n",
              "      <td>20</td>\n",
              "    </tr>\n",
              "    <tr>\n",
              "      <th>6</th>\n",
              "      <td>9.2</td>\n",
              "      <td>88</td>\n",
              "    </tr>\n",
              "    <tr>\n",
              "      <th>7</th>\n",
              "      <td>5.5</td>\n",
              "      <td>60</td>\n",
              "    </tr>\n",
              "    <tr>\n",
              "      <th>8</th>\n",
              "      <td>8.3</td>\n",
              "      <td>81</td>\n",
              "    </tr>\n",
              "    <tr>\n",
              "      <th>9</th>\n",
              "      <td>2.7</td>\n",
              "      <td>25</td>\n",
              "    </tr>\n",
              "  </tbody>\n",
              "</table>\n",
              "</div>"
            ],
            "text/plain": [
              "   Hours  Scores\n",
              "0    2.5      21\n",
              "1    5.1      47\n",
              "2    3.2      27\n",
              "3    8.5      75\n",
              "4    3.5      30\n",
              "5    1.5      20\n",
              "6    9.2      88\n",
              "7    5.5      60\n",
              "8    8.3      81\n",
              "9    2.7      25"
            ]
          },
          "metadata": {
            "tags": []
          },
          "execution_count": 12
        }
      ]
    },
    {
      "cell_type": "markdown",
      "metadata": {
        "id": "CawX1EXJXioz"
      },
      "source": [
        "# STEP 2- Visualizing the data"
      ]
    },
    {
      "cell_type": "code",
      "metadata": {
        "id": "R3Fv729YUjOc",
        "colab": {
          "base_uri": "https://localhost:8080/",
          "height": 295
        },
        "outputId": "cbafa6bd-8a60-4896-b6b8-3203a284f051"
      },
      "source": [
        "df.plot(x='Hours', y='Scores', style='.', color='red')\n",
        "plt.title('Hours vs Score')  \n",
        "plt.xlabel('Hours Studied')  \n",
        "plt.ylabel('Score Achieved')  \n",
        "plt.grid()\n",
        "plt.show()"
      ],
      "execution_count": 13,
      "outputs": [
        {
          "output_type": "display_data",
          "data": {
            "image/png": "[encoded data removed]",
            "text/plain": [
              "<Figure size 432x288 with 1 Axes>"
            ]
          },
          "metadata": {
            "tags": [],
            "needs_background": "light"
          }
        }
      ]
    },
    {
      "cell_type": "markdown",
      "metadata": {
        "id": "KEIcOJdrXnWY"
      },
      "source": [
        "# STEP 3 - Preparing the data & Splitting the dataset"
      ]
    },
    {
      "cell_type": "code",
      "metadata": {
        "id": "Eug4-HTXUjOc",
        "colab": {
          "base_uri": "https://localhost:8080/"
        },
        "outputId": "2fc06bfc-4f4b-4483-fcdf-bb1cb1e85557"
      },
      "source": [
        "# Here I am using two variables X & Y for Hours and Scores respectively\n",
        "X = df.iloc[:, :-1].values  \n",
        "Y = df.iloc[:, 1:].values  \n",
        "X,Y"
      ],
      "execution_count": 14,
      "outputs": [
        {
          "output_type": "execute_result",
          "data": {
            "text/plain": [
              "(array([[2.5],\n",
              "        [5.1],\n",
              "        [3.2],\n",
              "        [8.5],\n",
              "        [3.5],\n",
              "        [1.5],\n",
              "        [9.2],\n",
              "        [5.5],\n",
              "        [8.3],\n",
              "        [2.7],\n",
              "        [7.7],\n",
              "        [5.9],\n",
              "        [4.5],\n",
              "        [3.3],\n",
              "        [1.1],\n",
              "        [8.9],\n",
              "        [2.5],\n",
              "        [1.9],\n",
              "        [6.1],\n",
              "        [7.4],\n",
              "        [2.7],\n",
              "        [4.8],\n",
              "        [3.8],\n",
              "        [6.9],\n",
              "        [7.8]]), array([[21],\n",
              "        [47],\n",
              "        [27],\n",
              "        [75],\n",
              "        [30],\n",
              "        [20],\n",
              "        [88],\n",
              "        [60],\n",
              "        [81],\n",
              "        [25],\n",
              "        [85],\n",
              "        [62],\n",
              "        [41],\n",
              "        [42],\n",
              "        [17],\n",
              "        [95],\n",
              "        [30],\n",
              "        [24],\n",
              "        [67],\n",
              "        [69],\n",
              "        [30],\n",
              "        [54],\n",
              "        [35],\n",
              "        [76],\n",
              "        [86]]))"
            ]
          },
          "metadata": {
            "tags": []
          },
          "execution_count": 14
        }
      ]
    },
    {
      "cell_type": "code",
      "metadata": {
        "id": "W4IYPXZfUjOd"
      },
      "source": [
        "# Splitting data into training data and testing data, 80% training and 20% testing\n",
        "X_train, X_test, Y_train, Y_test = train_test_split(X, Y,test_size=0.2, random_state=0)"
      ],
      "execution_count": 15,
      "outputs": []
    },
    {
      "cell_type": "markdown",
      "metadata": {
        "id": "zbZpFJQQXtcn"
      },
      "source": [
        "# STEP 4 - Training the Algorithm"
      ]
    },
    {
      "cell_type": "code",
      "metadata": {
        "id": "2nsZ_LL4UjOd",
        "colab": {
          "base_uri": "https://localhost:8080/"
        },
        "outputId": "0ad32b70-3e8d-4ef0-d394-4ba40797f051"
      },
      "source": [
        "#We have splited our data into training and testing sets, and now we will train our model.\n",
        "\n",
        "model = LinearRegression()\n",
        "model.fit(X_train, Y_train)\n"
      ],
      "execution_count": 16,
      "outputs": [
        {
          "output_type": "execute_result",
          "data": {
            "text/plain": [
              "LinearRegression(copy_X=True, fit_intercept=True, n_jobs=None, normalize=False)"
            ]
          },
          "metadata": {
            "tags": []
          },
          "execution_count": 16
        }
      ]
    },
    {
      "cell_type": "code",
      "metadata": {
        "id": "VfbQXYpCUjOd",
        "colab": {
          "base_uri": "https://localhost:8080/"
        },
        "outputId": "14f6d31e-fa2f-4844-ccb5-0fdc9224e827"
      },
      "source": [
        "#Coefficient of our model\n",
        "model.coef_"
      ],
      "execution_count": 17,
      "outputs": [
        {
          "output_type": "execute_result",
          "data": {
            "text/plain": [
              "array([[9.91065648]])"
            ]
          },
          "metadata": {
            "tags": []
          },
          "execution_count": 17
        }
      ]
    },
    {
      "cell_type": "code",
      "metadata": {
        "id": "3cKcCL9SUjOd",
        "colab": {
          "base_uri": "https://localhost:8080/"
        },
        "outputId": "94b3a59e-9c7c-49e4-aa9e-6af76b9c9e17"
      },
      "source": [
        "#Intercept of our model\n",
        "model.intercept_"
      ],
      "execution_count": 18,
      "outputs": [
        {
          "output_type": "execute_result",
          "data": {
            "text/plain": [
              "array([2.01816004])"
            ]
          },
          "metadata": {
            "tags": []
          },
          "execution_count": 18
        }
      ]
    },
    {
      "cell_type": "markdown",
      "metadata": {
        "id": "hIB0tVMtXz13"
      },
      "source": [
        "# STEP 5 - Visualizing the model"
      ]
    },
    {
      "cell_type": "code",
      "metadata": {
        "id": "LxQKmecTUjOd",
        "colab": {
          "base_uri": "https://localhost:8080/",
          "height": 279
        },
        "outputId": "263ee38e-b0de-4e1a-acf4-b677de2ad191"
      },
      "source": [
        "# Plotting the regression line (line = a*x + b)\n",
        "line = model.coef_*X + model.intercept_\n",
        "\n",
        "# Plotting for the test data\n",
        "plt.show()\n",
        "plt.scatter(X_train, Y_train, color='blue')\n",
        "plt.plot(X, line, color='red');\n",
        "plt.xlabel('Hours Studied')  \n",
        "plt.ylabel('Score') \n",
        "plt.show()"
      ],
      "execution_count": 19,
      "outputs": [
        {
          "output_type": "display_data",
          "data": {
            "image/png": "[encoded data removed]",
            "text/plain": [
              "<Figure size 432x288 with 1 Axes>"
            ]
          },
          "metadata": {
            "tags": [],
            "needs_background": "light"
          }
        }
      ]
    },
    {
      "cell_type": "markdown",
      "metadata": {
        "id": "8rttIsjfX3BH"
      },
      "source": [
        "# STEP 6 - Making Predictions"
      ]
    },
    {
      "cell_type": "code",
      "metadata": {
        "id": "wtL8nshpUjOd",
        "colab": {
          "base_uri": "https://localhost:8080/"
        },
        "outputId": "ce927887-c62f-4637-fb08-c7a40262c31b"
      },
      "source": [
        "#Here now that we have trained our model, let's test our model on test data\n",
        "print(X_test) #printing the test data\n",
        "Y_pred = model.predict(X_test) #Predicting the scores on our test data\n",
        "print(Y_pred)"
      ],
      "execution_count": 20,
      "outputs": [
        {
          "output_type": "stream",
          "text": [
            "[[1.5]\n",
            " [3.2]\n",
            " [7.4]\n",
            " [2.5]\n",
            " [5.9]]\n",
            "[[16.88414476]\n",
            " [33.73226078]\n",
            " [75.357018  ]\n",
            " [26.79480124]\n",
            " [60.49103328]]\n"
          ],
          "name": "stdout"
        }
      ]
    },
    {
      "cell_type": "code",
      "metadata": {
        "id": "4K48RS1vUjOe",
        "colab": {
          "base_uri": "https://localhost:8080/",
          "height": 235
        },
        "outputId": "38befed2-356c-4ae9-cc62-3731e878f892"
      },
      "source": [
        "#Now that we have actual and predicted values, let's compare these values\n",
        "actual = pd.DataFrame(Y_test)\n",
        "predicted = pd.DataFrame(Y_pred)\n",
        "compare = pd.concat([actual, predicted], axis = 1, keys = ['Actual_Score', 'Predicted_score'])\n",
        "compare"
      ],
      "execution_count": 21,
      "outputs": [
        {
          "output_type": "execute_result",
          "data": {
            "text/html": [
              "<div>\n",
              "<style scoped>\n",
              "    .dataframe tbody tr th:only-of-type {\n",
              "        vertical-align: middle;\n",
              "    }\n",
              "\n",
              "    .dataframe tbody tr th {\n",
              "        vertical-align: top;\n",
              "    }\n",
              "\n",
              "    .dataframe thead tr th {\n",
              "        text-align: left;\n",
              "    }\n",
              "</style>\n",
              "<table border=\"1\" class=\"dataframe\">\n",
              "  <thead>\n",
              "    <tr>\n",
              "      <th></th>\n",
              "      <th>Actual_Score</th>\n",
              "      <th>Predicted_score</th>\n",
              "    </tr>\n",
              "    <tr>\n",
              "      <th></th>\n",
              "      <th>0</th>\n",
              "      <th>0</th>\n",
              "    </tr>\n",
              "  </thead>\n",
              "  <tbody>\n",
              "    <tr>\n",
              "      <th>0</th>\n",
              "      <td>20</td>\n",
              "      <td>16.884145</td>\n",
              "    </tr>\n",
              "    <tr>\n",
              "      <th>1</th>\n",
              "      <td>27</td>\n",
              "      <td>33.732261</td>\n",
              "    </tr>\n",
              "    <tr>\n",
              "      <th>2</th>\n",
              "      <td>69</td>\n",
              "      <td>75.357018</td>\n",
              "    </tr>\n",
              "    <tr>\n",
              "      <th>3</th>\n",
              "      <td>30</td>\n",
              "      <td>26.794801</td>\n",
              "    </tr>\n",
              "    <tr>\n",
              "      <th>4</th>\n",
              "      <td>62</td>\n",
              "      <td>60.491033</td>\n",
              "    </tr>\n",
              "  </tbody>\n",
              "</table>\n",
              "</div>"
            ],
            "text/plain": [
              "  Actual_Score Predicted_score\n",
              "             0               0\n",
              "0           20       16.884145\n",
              "1           27       33.732261\n",
              "2           69       75.357018\n",
              "3           30       26.794801\n",
              "4           62       60.491033"
            ]
          },
          "metadata": {
            "tags": []
          },
          "execution_count": 21
        }
      ]
    },
    {
      "cell_type": "code",
      "metadata": {
        "id": "ZwPub93pUjOe",
        "colab": {
          "base_uri": "https://localhost:8080/"
        },
        "outputId": "0b6d4125-1c96-4918-8c52-900a46ca8ba2"
      },
      "source": [
        "#Testing for any particular no of hours of study \n",
        "h = 9.25\n",
        "pred = model.predict([[h]])\n",
        "print(\"No. of hours studied = {}\".format(h))\n",
        "print(\"Predicted score = {}\".format(pred[0]))"
      ],
      "execution_count": 22,
      "outputs": [
        {
          "output_type": "stream",
          "text": [
            "No. of hours studied = 9.25\n",
            "Predicted score = [93.69173249]\n"
          ],
          "name": "stdout"
        }
      ]
    },
    {
      "cell_type": "markdown",
      "metadata": {
        "id": "ui6fhAUxX6R2"
      },
      "source": [
        "# STEP 7 - Evaluating the model"
      ]
    },
    {
      "cell_type": "code",
      "metadata": {
        "id": "LDzCmnQuUjOe",
        "colab": {
          "base_uri": "https://localhost:8080/"
        },
        "outputId": "e18656cb-49ba-4542-e499-a403b99dc34d"
      },
      "source": [
        "#Now we have our trained model, we tested on our test data, we tested for some random input, noow let's evaluate our model's performance\n",
        "print('Mean Absolute Error:', metrics.mean_absolute_error(Y_test, Y_pred))"
      ],
      "execution_count": 23,
      "outputs": [
        {
          "output_type": "stream",
          "text": [
            "Mean Absolute Error: 4.183859899002982\n"
          ],
          "name": "stdout"
        }
      ]
    }
  ]
}